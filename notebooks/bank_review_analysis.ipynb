{
 "cells": [
  {
   "cell_type": "code",
   "execution_count": 1,
   "id": "9f2a2ad3",
   "metadata": {},
   "outputs": [],
   "source": [
    "import pandas as pd\n",
    "import numpy as np\n",
    "# import seaborn as sns\n",
    "import matplotlib.pyplot as plt\n",
    "import os\n",
    " \n",
    "import sys\n",
    "sys.path.append(\"../scripts\")\n",
    "from bank_review_scraper import BankReviewScraper"
   ]
  },
  {
   "cell_type": "code",
   "execution_count": 2,
   "id": "14aac21c",
   "metadata": {},
   "outputs": [],
   "source": [
    "app_configs = [\n",
    "        {\"bank\": \"Commercial Bank of Ethiopia\", \"app_id\": \"com.combanketh.mobilebanking\"},\n",
    "        {\"bank\": \"Bank of Abyssinia\", \"app_id\": \"com.boa.boaMobileBanking\"},\n",
    "        {\"bank\": \"Dashen Bank\", \"app_id\": \"com.dashen.dashensuperapp\"},\n",
    "    ]"
   ]
  },
  {
   "cell_type": "code",
   "execution_count": 4,
   "id": "4d129be8",
   "metadata": {},
   "outputs": [
    {
     "name": "stdout",
     "output_type": "stream",
     "text": [
      "Length from save_to_csv = 1200\n",
      "✅ Merged data saved to ../data/bank_reviews_raw.csv with 1200 total reviews.\n"
     ]
    }
   ],
   "source": [
    "scraper = BankReviewScraper(apps=app_configs, limit_per_bank=400)\n",
    "scraper.scrape_all_banks()\n",
    "os.makedirs('../../data/', exist_ok=True)\n",
    "df= scraper.save_to_csv(\"../data/bank_reviews_raw.csv\")"
   ]
  },
  {
   "cell_type": "markdown",
   "id": "633afc4d",
   "metadata": {},
   "source": [
    "### Preprocessing Date"
   ]
  },
  {
   "cell_type": "code",
   "execution_count": null,
   "id": "0cd138a7",
   "metadata": {},
   "outputs": [
    {
     "name": "stdout",
     "output_type": "stream",
     "text": [
      "1200\n",
      "987\n"
     ]
    }
   ],
   "source": [
    "\n",
    "processed_df=scraper.preprocess_reviews_and_save(df, \"../data/bank_reviews_clean.csv\")\n"
   ]
  },
  {
   "cell_type": "code",
   "execution_count": null,
   "id": "79230cad",
   "metadata": {},
   "outputs": [],
   "source": []
  }
 ],
 "metadata": {
  "kernelspec": {
   "display_name": ".scraper",
   "language": "python",
   "name": "python3"
  },
  "language_info": {
   "codemirror_mode": {
    "name": "ipython",
    "version": 3
   },
   "file_extension": ".py",
   "mimetype": "text/x-python",
   "name": "python",
   "nbconvert_exporter": "python",
   "pygments_lexer": "ipython3",
   "version": "3.12.2"
  }
 },
 "nbformat": 4,
 "nbformat_minor": 5
}
