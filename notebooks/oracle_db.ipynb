{
 "cells": [
  {
   "cell_type": "code",
   "execution_count": 1,
   "metadata": {},
   "outputs": [],
   "source": [
    "import pandas as pd;\n",
    "import sys\n",
    "sys.path.append(\"../scripts\")\n",
    "from oracle_loader import OracleReviewLoader"
   ]
  },
  {
   "cell_type": "markdown",
   "metadata": {},
   "source": [
    "### Load data"
   ]
  },
  {
   "cell_type": "code",
   "execution_count": 2,
   "metadata": {},
   "outputs": [],
   "source": [
    "df = pd.read_csv('../data/bank_reviews_with_sentiments.csv')"
   ]
  },
  {
   "cell_type": "code",
   "execution_count": 9,
   "metadata": {},
   "outputs": [],
   "source": [
    "loader = OracleReviewLoader(\n",
    "       df= df,\n",
    "        user=\"system\",\n",
    "        password=\"123456\",\n",
    "        dsn=\"localhost/XEPDB1\"\n",
    "    )"
   ]
  },
  {
   "cell_type": "code",
   "execution_count": 7,
   "metadata": {},
   "outputs": [
    {
     "name": "stdout",
     "output_type": "stream",
     "text": [
      "['Commercial Bank of Ethiopia' 'Bank of Abyssinia' 'Dashen Bank']\n"
     ]
    }
   ],
   "source": [
    "df.columns\n",
    "print(df['bank'].unique())\n"
   ]
  },
  {
   "cell_type": "code",
   "execution_count": 10,
   "metadata": {},
   "outputs": [
    {
     "ename": "InterfaceError",
     "evalue": "DPY-1004: no statement executed",
     "output_type": "error",
     "traceback": [
      "\u001b[31m---------------------------------------------------------------------------\u001b[39m",
      "\u001b[31mInterfaceError\u001b[39m                            Traceback (most recent call last)",
      "\u001b[36mCell\u001b[39m\u001b[36m \u001b[39m\u001b[32mIn[10]\u001b[39m\u001b[32m, line 2\u001b[39m\n\u001b[32m      1\u001b[39m loader.connect()\n\u001b[32m----> \u001b[39m\u001b[32m2\u001b[39m \u001b[43mloader\u001b[49m\u001b[43m.\u001b[49m\u001b[43minsert_banks\u001b[49m\u001b[43m(\u001b[49m\u001b[43m)\u001b[49m\n\u001b[32m      3\u001b[39m a= loader.fetch_banks()\n\u001b[32m      4\u001b[39m \u001b[38;5;28mprint\u001b[39m(a)\n",
      "\u001b[36mFile \u001b[39m\u001b[32mc:\\Users\\hp\\keep_it\\Tenx\\kaim-week2\\notebooks\\../scripts\\oracle_loader.py:22\u001b[39m, in \u001b[36mOracleReviewLoader.insert_banks\u001b[39m\u001b[34m(self)\u001b[39m\n\u001b[32m     20\u001b[39m \u001b[38;5;66;03m#    \u001b[39;00m\n\u001b[32m     21\u001b[39m         \u001b[38;5;28;01mfor\u001b[39;00m name \u001b[38;5;129;01min\u001b[39;00m banks:\n\u001b[32m---> \u001b[39m\u001b[32m22\u001b[39m             id_var = cursor.var(\u001b[38;5;28mint\u001b[39m)\n\u001b[32m     23\u001b[39m             cursor.execute(\n\u001b[32m     24\u001b[39m             \u001b[33m\"\u001b[39m\u001b[33mINSERT INTO banks (name) VALUES (:1) RETURNING id INTO :2\u001b[39m\u001b[33m\"\u001b[39m,\n\u001b[32m     25\u001b[39m             [name, id_var]\n\u001b[32m     26\u001b[39m         )\n\u001b[32m     27\u001b[39m         \u001b[38;5;28mself\u001b[39m.bank_map[name] = id_var.getvalue()[\u001b[32m0\u001b[39m]\n",
      "\u001b[36mFile \u001b[39m\u001b[32mc:\\Users\\hp\\keep_it\\Tenx\\kaim-week2\\.scraper\\Lib\\site-packages\\oracledb\\cursor.py:309\u001b[39m, in \u001b[36mBaseCursor.getimplicitresults\u001b[39m\u001b[34m(self)\u001b[39m\n\u001b[32m    298\u001b[39m \u001b[38;5;250m\u001b[39m\u001b[33;03m\"\"\"\u001b[39;00m\n\u001b[32m    299\u001b[39m \u001b[33;03mReturn a list of cursors which correspond to implicit results made\u001b[39;00m\n\u001b[32m    300\u001b[39m \u001b[33;03mavailable from a PL/SQL block or procedure without the use of OUT ref\u001b[39;00m\n\u001b[32m   (...)\u001b[39m\u001b[32m    306\u001b[39m \u001b[33;03mreturned by this method.\u001b[39;00m\n\u001b[32m    307\u001b[39m \u001b[33;03m\"\"\"\u001b[39;00m\n\u001b[32m    308\u001b[39m \u001b[38;5;28mself\u001b[39m._verify_open()\n\u001b[32m--> \u001b[39m\u001b[32m309\u001b[39m \u001b[38;5;28;01mreturn\u001b[39;00m \u001b[38;5;28;43mself\u001b[39;49m\u001b[43m.\u001b[49m\u001b[43m_impl\u001b[49m\u001b[43m.\u001b[49m\u001b[43mget_implicit_results\u001b[49m\u001b[43m(\u001b[49m\u001b[38;5;28;43mself\u001b[39;49m\u001b[43m.\u001b[49m\u001b[43mconnection\u001b[49m\u001b[43m)\u001b[49m\n",
      "\u001b[36mFile \u001b[39m\u001b[32msrc/oracledb/impl/thin/cursor.pyx:241\u001b[39m, in \u001b[36moracledb.thin_impl.BaseThinCursorImpl.get_implicit_results\u001b[39m\u001b[34m()\u001b[39m\n",
      "\u001b[36mFile \u001b[39m\u001b[32mc:\\Users\\hp\\keep_it\\Tenx\\kaim-week2\\.scraper\\Lib\\site-packages\\oracledb\\errors.py:199\u001b[39m, in \u001b[36m_raise_err\u001b[39m\u001b[34m(error_num, context_error_message, cause, **args)\u001b[39m\n\u001b[32m    194\u001b[39m \u001b[38;5;250m\u001b[39m\u001b[33;03m\"\"\"\u001b[39;00m\n\u001b[32m    195\u001b[39m \u001b[33;03mRaises a driver specific exception from the specified error number and\u001b[39;00m\n\u001b[32m    196\u001b[39m \u001b[33;03msupplied arguments.\u001b[39;00m\n\u001b[32m    197\u001b[39m \u001b[33;03m\"\"\"\u001b[39;00m\n\u001b[32m    198\u001b[39m error = _create_err(error_num, context_error_message, cause, **args)\n\u001b[32m--> \u001b[39m\u001b[32m199\u001b[39m \u001b[38;5;28;01mraise\u001b[39;00m error.exc_type(error) \u001b[38;5;28;01mfrom\u001b[39;00m\u001b[38;5;250m \u001b[39m\u001b[34;01mcause\u001b[39;00m\n",
      "\u001b[31mInterfaceError\u001b[39m: DPY-1004: no statement executed"
     ]
    }
   ],
   "source": [
    "loader.connect()\n",
    "loader.insert_banks()\n",
    "a= loader.fetch_banks()\n",
    "print(a)\n",
    "loader.insert_reviews()\n",
    "loader.close()"
   ]
  },
  {
   "cell_type": "code",
   "execution_count": null,
   "metadata": {},
   "outputs": [],
   "source": []
  }
 ],
 "metadata": {
  "kernelspec": {
   "display_name": ".scraper",
   "language": "python",
   "name": "python3"
  },
  "language_info": {
   "codemirror_mode": {
    "name": "ipython",
    "version": 3
   },
   "file_extension": ".py",
   "mimetype": "text/x-python",
   "name": "python",
   "nbconvert_exporter": "python",
   "pygments_lexer": "ipython3",
   "version": "3.12.2"
  }
 },
 "nbformat": 4,
 "nbformat_minor": 2
}
